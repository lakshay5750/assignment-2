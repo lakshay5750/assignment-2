{
 "cells": [
  {
   "cell_type": "code",
   "execution_count": 1,
   "id": "f6c974ed-54b6-42bd-a7c0-3a533a5090ba",
   "metadata": {},
   "outputs": [],
   "source": [
    "l=[1,2,3,\"lakshay\",True,5.0]\n"
   ]
  },
  {
   "cell_type": "code",
   "execution_count": 3,
   "id": "d3c7aea3-ba8a-4f3a-aa16-216d712115bd",
   "metadata": {},
   "outputs": [
    {
     "data": {
      "text/plain": [
       "[1, 2, 3, 'lakshay', True, 5.0]"
      ]
     },
     "execution_count": 3,
     "metadata": {},
     "output_type": "execute_result"
    }
   ],
   "source": [
    "l"
   ]
  },
  {
   "cell_type": "code",
   "execution_count": 5,
   "id": "12bc24da-f152-49ad-a00b-bc46349de833",
   "metadata": {},
   "outputs": [],
   "source": [
    "l1=[90,100,\"varshney\"]"
   ]
  },
  {
   "cell_type": "code",
   "execution_count": 7,
   "id": "02c3c74d-68c4-4de4-900b-ce3ac164415e",
   "metadata": {},
   "outputs": [
    {
     "data": {
      "text/plain": [
       "[1, 2, 3, 'lakshay', True, 5.0, 90, 100, 'varshney']"
      ]
     },
     "execution_count": 7,
     "metadata": {},
     "output_type": "execute_result"
    }
   ],
   "source": [
    "l+l1"
   ]
  },
  {
   "cell_type": "code",
   "execution_count": 9,
   "id": "ad214401-cd3f-40bc-a7fc-16ec3f858136",
   "metadata": {},
   "outputs": [],
   "source": [
    "l.append(l1)"
   ]
  },
  {
   "cell_type": "code",
   "execution_count": 11,
   "id": "7c9aafc5-3412-4203-a650-db915ccaa196",
   "metadata": {},
   "outputs": [
    {
     "data": {
      "text/plain": [
       "[1, 2, 3, 'lakshay', True, 5.0, [90, 100, 'varshney']]"
      ]
     },
     "execution_count": 11,
     "metadata": {},
     "output_type": "execute_result"
    }
   ],
   "source": [
    "l"
   ]
  },
  {
   "cell_type": "code",
   "execution_count": 13,
   "id": "b1a207ec-831e-410d-b002-547b37edbfd3",
   "metadata": {},
   "outputs": [
    {
     "data": {
      "text/plain": [
       "[1, 2, 3, 'lakshay', True, 5.0, [90, 100, 'varshney']]"
      ]
     },
     "execution_count": 13,
     "metadata": {},
     "output_type": "execute_result"
    }
   ],
   "source": [
    "l"
   ]
  },
  {
   "cell_type": "code",
   "execution_count": 15,
   "id": "1cc16b34-9d23-422c-a6c0-4c769eb843f7",
   "metadata": {},
   "outputs": [],
   "source": [
    "l.extend(l1)"
   ]
  },
  {
   "cell_type": "code",
   "execution_count": 17,
   "id": "9d30bd6b-d1e5-40b4-b0c6-e5deef85aba6",
   "metadata": {},
   "outputs": [
    {
     "data": {
      "text/plain": [
       "[1, 2, 3, 'lakshay', True, 5.0, [90, 100, 'varshney'], 90, 100, 'varshney']"
      ]
     },
     "execution_count": 17,
     "metadata": {},
     "output_type": "execute_result"
    }
   ],
   "source": [
    "l"
   ]
  },
  {
   "cell_type": "code",
   "execution_count": 19,
   "id": "dd5bbb07-8868-417b-92e1-62df319d128b",
   "metadata": {},
   "outputs": [
    {
     "data": {
      "text/plain": [
       "['varshney', 100, 90, [90, 100, 'varshney'], 5.0, True, 'lakshay', 3, 2, 1]"
      ]
     },
     "execution_count": 19,
     "metadata": {},
     "output_type": "execute_result"
    }
   ],
   "source": [
    "l[::-1]#not change the original list"
   ]
  },
  {
   "cell_type": "code",
   "execution_count": 21,
   "id": "cdcc9c97-7c8d-4090-9e61-698b18102f4d",
   "metadata": {},
   "outputs": [
    {
     "data": {
      "text/plain": [
       "[1, 2, 3, 'lakshay', True, 5.0, [90, 100, 'varshney'], 90, 100, 'varshney']"
      ]
     },
     "execution_count": 21,
     "metadata": {},
     "output_type": "execute_result"
    }
   ],
   "source": [
    "l"
   ]
  },
  {
   "cell_type": "code",
   "execution_count": 23,
   "id": "9bc71a02-5d0d-4a66-bff3-db02edb252a1",
   "metadata": {},
   "outputs": [],
   "source": [
    "l.reverse()#change the list "
   ]
  },
  {
   "cell_type": "code",
   "execution_count": 25,
   "id": "9f816a6b-5ca0-4dd4-9b30-f3bd84f2897b",
   "metadata": {},
   "outputs": [
    {
     "data": {
      "text/plain": [
       "['varshney', 100, 90, [90, 100, 'varshney'], 5.0, True, 'lakshay', 3, 2, 1]"
      ]
     },
     "execution_count": 25,
     "metadata": {},
     "output_type": "execute_result"
    }
   ],
   "source": [
    "l"
   ]
  },
  {
   "cell_type": "code",
   "execution_count": 31,
   "id": "f8f012d4-3d4b-46a2-85ca-783e75befa57",
   "metadata": {},
   "outputs": [
    {
     "name": "stdout",
     "output_type": "stream",
     "text": [
      "you are in a2 batch\n"
     ]
    }
   ],
   "source": [
    "marks=10\n",
    "if marks>=80:\n",
    "    print(\"you are in a0 batch\")\n",
    "elif  marks>=60 and marks<80:\n",
    "    print(\"you are in a1 batch\")\n",
    "else :\n",
    "    print(\"you are in a2 batch\")"
   ]
  },
  {
   "cell_type": "code",
   "execution_count": 41,
   "id": "2f3a6ca7-8518-4e44-b5e2-2af8c3bac6fb",
   "metadata": {},
   "outputs": [
    {
     "name": "stdout",
     "output_type": "stream",
     "text": [
      "2\n",
      "3\n",
      "4\n",
      "5\n",
      "6\n",
      "7\n",
      "8\n",
      "9\n"
     ]
    }
   ],
   "source": [
    "l=[1,2,3,4,5,6,7,8]\n",
    "l1=[]\n",
    "for i in l:\n",
    "    print(i+1)\n",
    "    l1.append(i+1)"
   ]
  },
  {
   "cell_type": "code",
   "execution_count": 43,
   "id": "baed6bba-b8ad-4b2c-85c9-204719a540aa",
   "metadata": {},
   "outputs": [
    {
     "data": {
      "text/plain": [
       "[2, 3, 4, 5, 6, 7, 8, 9]"
      ]
     },
     "execution_count": 43,
     "metadata": {},
     "output_type": "execute_result"
    }
   ],
   "source": [
    "l1"
   ]
  },
  {
   "cell_type": "code",
   "execution_count": 49,
   "id": "5da535fe-88bc-4110-b566-f8653d1eda6e",
   "metadata": {},
   "outputs": [
    {
     "data": {
      "text/plain": [
       "['SUDH', 'KUMAR', 'COURSE', 'BATCH']"
      ]
     },
     "execution_count": 49,
     "metadata": {},
     "output_type": "execute_result"
    }
   ],
   "source": [
    "l=[\"sudh\",\"kumar\",\"course\",\"batch\"]\n",
    "l1=[]\n",
    "for i in l:\n",
    "    l1.append(i.upper())\n",
    "l1   "
   ]
  },
  {
   "cell_type": "code",
   "execution_count": 63,
   "id": "b7da8f8d-d7d6-47cc-90c3-36057c5e102f",
   "metadata": {},
   "outputs": [
    {
     "ename": "IndentationError",
     "evalue": "unindent does not match any outer indentation level (<string>, line 9)",
     "output_type": "error",
     "traceback": [
      "\u001b[1;36m  File \u001b[1;32m<string>:9\u001b[1;36m\u001b[0m\n\u001b[1;33m    l1\u001b[0m\n\u001b[1;37m      ^\u001b[0m\n\u001b[1;31mIndentationError\u001b[0m\u001b[1;31m:\u001b[0m unindent does not match any outer indentation level\n"
     ]
    }
   ],
   "source": [
    "l=[\"lakahy\",1,3,5,\"varshney\"]\n",
    "l1=[]\n",
    "l2=[]\n",
    "for i in l:\n",
    "    if type(i)==int or type(i)==float:\n",
    "        l1.append(i)\n",
    "    else :\n",
    "        l2.append(i)\n"
   ]
  },
  {
   "cell_type": "code",
   "execution_count": 65,
   "id": "9ebff6b3-cc54-4b94-bac5-5e2c08e01f72",
   "metadata": {},
   "outputs": [
    {
     "name": "stdout",
     "output_type": "stream",
     "text": [
      "[1, 3, 5]\n"
     ]
    }
   ],
   "source": [
    "print(l1)"
   ]
  },
  {
   "cell_type": "code",
   "execution_count": 67,
   "id": "1941e511-9cb7-4bdb-a7ee-17e0fa19d6ac",
   "metadata": {},
   "outputs": [
    {
     "name": "stdout",
     "output_type": "stream",
     "text": [
      "['lakahy', 'varshney']\n"
     ]
    }
   ],
   "source": [
    "print(l2)"
   ]
  },
  {
   "cell_type": "code",
   "execution_count": null,
   "id": "fb511405-f51c-4d20-b74e-73d51cc24835",
   "metadata": {},
   "outputs": [],
   "source": []
  }
 ],
 "metadata": {
  "kernelspec": {
   "display_name": "Python 3 (ipykernel)",
   "language": "python",
   "name": "python3"
  },
  "language_info": {
   "codemirror_mode": {
    "name": "ipython",
    "version": 3
   },
   "file_extension": ".py",
   "mimetype": "text/x-python",
   "name": "python",
   "nbconvert_exporter": "python",
   "pygments_lexer": "ipython3",
   "version": "3.12.4"
  }
 },
 "nbformat": 4,
 "nbformat_minor": 5
}
