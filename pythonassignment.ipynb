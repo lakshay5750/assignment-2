{
 "cells": [
  {
   "cell_type": "code",
   "execution_count": 73,
   "id": "834d873e-b7a0-4695-bce3-6c516bc58745",
   "metadata": {},
   "outputs": [
    {
     "ename": "AttributeError",
     "evalue": "'tuple' object has no attribute 'sort'",
     "output_type": "error",
     "traceback": [
      "\u001b[1;31m---------------------------------------------------------------------------\u001b[0m",
      "\u001b[1;31mAttributeError\u001b[0m                            Traceback (most recent call last)",
      "Cell \u001b[1;32mIn[73], line 2\u001b[0m\n\u001b[0;32m      1\u001b[0m l\u001b[38;5;241m=\u001b[39m[(\u001b[38;5;124m'\u001b[39m\u001b[38;5;124mSachin Tendulkar\u001b[39m\u001b[38;5;124m'\u001b[39m, \u001b[38;5;241m34357\u001b[39m), (\u001b[38;5;124m'\u001b[39m\u001b[38;5;124mRicky Ponting\u001b[39m\u001b[38;5;124m'\u001b[39m, \u001b[38;5;241m27483\u001b[39m), (\u001b[38;5;124m'\u001b[39m\u001b[38;5;124mJack Kallis\u001b[39m\u001b[38;5;124m'\u001b[39m, \u001b[38;5;241m25534\u001b[39m), (\u001b[38;5;124m'\u001b[39m\u001b[38;5;124mVirat Kohli\u001b[39m\u001b[38;5;124m'\u001b[39m, \u001b[38;5;241m24936\u001b[39m)]\n\u001b[1;32m----> 2\u001b[0m \u001b[38;5;28mlist\u001b[39m(\u001b[38;5;28mmap\u001b[39m(\u001b[38;5;28;01mlambda\u001b[39;00m x: x\u001b[38;5;241m.\u001b[39msort(),l))\n",
      "Cell \u001b[1;32mIn[73], line 2\u001b[0m, in \u001b[0;36m<lambda>\u001b[1;34m(x)\u001b[0m\n\u001b[0;32m      1\u001b[0m l\u001b[38;5;241m=\u001b[39m[(\u001b[38;5;124m'\u001b[39m\u001b[38;5;124mSachin Tendulkar\u001b[39m\u001b[38;5;124m'\u001b[39m, \u001b[38;5;241m34357\u001b[39m), (\u001b[38;5;124m'\u001b[39m\u001b[38;5;124mRicky Ponting\u001b[39m\u001b[38;5;124m'\u001b[39m, \u001b[38;5;241m27483\u001b[39m), (\u001b[38;5;124m'\u001b[39m\u001b[38;5;124mJack Kallis\u001b[39m\u001b[38;5;124m'\u001b[39m, \u001b[38;5;241m25534\u001b[39m), (\u001b[38;5;124m'\u001b[39m\u001b[38;5;124mVirat Kohli\u001b[39m\u001b[38;5;124m'\u001b[39m, \u001b[38;5;241m24936\u001b[39m)]\n\u001b[1;32m----> 2\u001b[0m \u001b[38;5;28mlist\u001b[39m(\u001b[38;5;28mmap\u001b[39m(\u001b[38;5;28;01mlambda\u001b[39;00m x: x\u001b[38;5;241m.\u001b[39msort(),l))\n",
      "\u001b[1;31mAttributeError\u001b[0m: 'tuple' object has no attribute 'sort'"
     ]
    }
   ],
   "source": [
    "l=[('Sachin Tendulkar', 34357), ('Ricky Ponting', 27483), ('Jack Kallis', 25534), ('Virat Kohli', 24936)]\n",
    "list(map(lambda x: x.sort(),l))\n"
   ]
  },
  {
   "cell_type": "code",
   "execution_count": 9,
   "id": "b84afe85-7e1f-45b0-a202-7be939a10093",
   "metadata": {},
   "outputs": [
    {
     "ename": "TypeError",
     "evalue": "<lambda>() missing 2 required positional arguments: 'y' and 'i'",
     "output_type": "error",
     "traceback": [
      "\u001b[1;31m---------------------------------------------------------------------------\u001b[0m",
      "\u001b[1;31mTypeError\u001b[0m                                 Traceback (most recent call last)",
      "Cell \u001b[1;32mIn[9], line 1\u001b[0m\n\u001b[1;32m----> 1\u001b[0m \u001b[38;5;28mlist\u001b[39m(\u001b[38;5;28mmap\u001b[39m( \u001b[38;5;28;01mlambda\u001b[39;00m x,y,i: x \u001b[38;5;28;01mif\u001b[39;00m x[i]\u001b[38;5;241m>\u001b[39my[i] \u001b[38;5;28;01melse\u001b[39;00m y[i], l))\n",
      "\u001b[1;31mTypeError\u001b[0m: <lambda>() missing 2 required positional arguments: 'y' and 'i'"
     ]
    }
   ],
   "source": [
    "list(map( lambda x,y,i: x if x[i]>y[i] else y[i], l))"
   ]
  },
  {
   "cell_type": "code",
   "execution_count": 11,
   "id": "7ca07526-9957-45f8-8e2a-4075c42000a6",
   "metadata": {},
   "outputs": [],
   "source": [
    "l1=[1, 2, 3, 4, 5, 6, 7, 8, 9, 10]"
   ]
  },
  {
   "cell_type": "code",
   "execution_count": 15,
   "id": "d472ad1b-ec9b-433a-af56-a459fe36014e",
   "metadata": {},
   "outputs": [
    {
     "data": {
      "text/plain": [
       "[1, 4, 9, 16, 25, 36, 49, 64, 81, 100]"
      ]
     },
     "execution_count": 15,
     "metadata": {},
     "output_type": "execute_result"
    }
   ],
   "source": [
    "list(map(lambda x: x**2 , l1))"
   ]
  },
  {
   "cell_type": "code",
   "execution_count": 17,
   "id": "c522abbe-0df2-4f7c-af35-86dc2c458231",
   "metadata": {},
   "outputs": [],
   "source": [
    "l1=[1, 2, 3, 4, 5, 6, 7, 8, 9, 10]"
   ]
  },
  {
   "cell_type": "code",
   "execution_count": 21,
   "id": "22def1c8-7b32-44cd-b50d-f20434fa36c1",
   "metadata": {},
   "outputs": [
    {
     "data": {
      "text/plain": [
       "('1', '2', '3', '4', '5', '6', '7', '8', '9', '10')"
      ]
     },
     "execution_count": 21,
     "metadata": {},
     "output_type": "execute_result"
    }
   ],
   "source": [
    "tuple(map(lambda x: str(x),l1))"
   ]
  },
  {
   "cell_type": "code",
   "execution_count": 42,
   "id": "8de8e4ac-0ca6-4a79-a903-389788511285",
   "metadata": {},
   "outputs": [],
   "source": [
    "from functools import reduce\n",
    "l3=[]\n",
    "i=1\n",
    "def multi():\n",
    "    while i<=25:\n",
    "        l3.append(i)\n",
    "        i=i+1\n",
    "    return l3"
   ]
  },
  {
   "cell_type": "code",
   "execution_count": 57,
   "id": "a4875d36-471d-42c6-b31d-8dca9f104893",
   "metadata": {},
   "outputs": [
    {
     "ename": "NameError",
     "evalue": "name 'l3' is not defined",
     "output_type": "error",
     "traceback": [
      "\u001b[1;31m---------------------------------------------------------------------------\u001b[0m",
      "\u001b[1;31mNameError\u001b[0m                                 Traceback (most recent call last)",
      "Cell \u001b[1;32mIn[57], line 1\u001b[0m\n\u001b[1;32m----> 1\u001b[0m \u001b[38;5;28mprint\u001b[39m(l3)\n",
      "\u001b[1;31mNameError\u001b[0m: name 'l3' is not defined"
     ]
    }
   ],
   "source": [
    "print(l3)"
   ]
  },
  {
   "cell_type": "code",
   "execution_count": 55,
   "id": "9a4872b4-4f71-4c07-ada3-9d8ac14f7e21",
   "metadata": {},
   "outputs": [
    {
     "name": "stdout",
     "output_type": "stream",
     "text": [
      "[]\n"
     ]
    }
   ],
   "source": [
    "print(l)"
   ]
  },
  {
   "cell_type": "code",
   "execution_count": 59,
   "id": "155c03cf-da81-4f3e-8226-270cff8b1e3b",
   "metadata": {},
   "outputs": [],
   "source": [
    "l4=[2, 3, 6, 9, 27, 60, 90, 120, 55, 46]"
   ]
  },
  {
   "cell_type": "code",
   "execution_count": 65,
   "id": "a953ec57-7a4c-4da4-bb46-4b30095f5a52",
   "metadata": {},
   "outputs": [
    {
     "data": {
      "text/plain": [
       "[2, 3, 6, 9, 27, 60, 90, 120, 46]"
      ]
     },
     "execution_count": 65,
     "metadata": {},
     "output_type": "execute_result"
    }
   ],
   "source": [
    "list(filter(lambda x:  x%2==0 or x%3==0,l4))"
   ]
  },
  {
   "cell_type": "code",
   "execution_count": 69,
   "id": "fa04d1e2-28a4-4b9b-933d-0b97d6295070",
   "metadata": {},
   "outputs": [
    {
     "data": {
      "text/plain": [
       "['php', 'aba', 'radar', 'level']"
      ]
     },
     "execution_count": 69,
     "metadata": {},
     "output_type": "execute_result"
    }
   ],
   "source": [
    "l5=['python', 'php', 'aba', 'radar', 'level']\n",
    "list(filter(lambda x: x==x[::-1],l5))"
   ]
  },
  {
   "cell_type": "code",
   "execution_count": null,
   "id": "2319e7ae-30c5-4925-9c93-182f3f7aaafd",
   "metadata": {},
   "outputs": [],
   "source": []
  }
 ],
 "metadata": {
  "kernelspec": {
   "display_name": "Python 3 (ipykernel)",
   "language": "python",
   "name": "python3"
  },
  "language_info": {
   "codemirror_mode": {
    "name": "ipython",
    "version": 3
   },
   "file_extension": ".py",
   "mimetype": "text/x-python",
   "name": "python",
   "nbconvert_exporter": "python",
   "pygments_lexer": "ipython3",
   "version": "3.12.4"
  }
 },
 "nbformat": 4,
 "nbformat_minor": 5
}
